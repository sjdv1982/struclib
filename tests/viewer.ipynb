{
 "cells": [
  {
   "cell_type": "code",
   "execution_count": null,
   "metadata": {},
   "outputs": [],
   "source": [
    "import nglview as nv"
   ]
  },
  {
   "cell_type": "code",
   "execution_count": null,
   "metadata": {},
   "outputs": [],
   "source": [
    "view = nv.NGLWidget()\n",
    "view.add_component(\"1AVX.pdb\")\n",
    "view.add_component(\"1AKE.pdb\")"
   ]
  },
  {
   "cell_type": "code",
   "execution_count": 1,
   "metadata": {
    "scrolled": true
   },
   "outputs": [
    {
     "name": "stdout",
     "output_type": "stream",
     "text": [
      "TODO: Runtime wrapper around StructuredCell that protects against .foo = bar where .handle.foo = bar is intended\n"
     ]
    },
    {
     "name": "stderr",
     "output_type": "stream",
     "text": [
      "/usr/local/lib/python3.6/dist-packages/Bio/PDB/StructureBuilder.py:89: PDBConstructionWarning: WARNING: Chain A is discontinuous at line 3453.\n",
      "  PDBConstructionWarning)\n",
      "/usr/local/lib/python3.6/dist-packages/Bio/PDB/StructureBuilder.py:89: PDBConstructionWarning: WARNING: Chain B is discontinuous at line 3530.\n",
      "  PDBConstructionWarning)\n",
      "/usr/local/lib/python3.6/dist-packages/Bio/PDB/StructureBuilder.py:89: PDBConstructionWarning: WARNING: Chain A is discontinuous at line 3729.\n",
      "  PDBConstructionWarning)\n",
      "/usr/local/lib/python3.6/dist-packages/Bio/PDB/StructureBuilder.py:89: PDBConstructionWarning: WARNING: Chain B is discontinuous at line 3970.\n",
      "  PDBConstructionWarning)\n"
     ]
    }
   ],
   "source": [
    "from struclib.StructureState import StructureState\n",
    "s = StructureState()\n",
    "pdb = open(\"1AVX.pdb\").read()\n",
    "s.parse_pdb(pdb, obj=\"1AVX\")\n",
    "pdb = open(\"1AKE.pdb\").read()\n",
    "s.parse_pdb(pdb, obj=\"1AKE\")"
   ]
  },
  {
   "cell_type": "code",
   "execution_count": null,
   "metadata": {},
   "outputs": [],
   "source": [
    "s.hide()\n",
    "s.show_as(\"lines\")\n",
    "s.select(\"chain == 'A'\")\n",
    "s.show_as(\"cartoon\")\n",
    "s.select(\"resname == 'ALA' and model == 1 and resid < 200\")\n",
    "s.show_as(\"spacefill\")\n",
    "s.select(\"chain == 'B' and resid > 550 and resid < 650\", \"mysele\")\n",
    "s.show(\"spacefill\")"
   ]
  },
  {
   "cell_type": "code",
   "execution_count": null,
   "metadata": {},
   "outputs": [],
   "source": [
    "r = s.ngl_representations()\n",
    "view.representations = r"
   ]
  },
  {
   "cell_type": "code",
   "execution_count": null,
   "metadata": {},
   "outputs": [],
   "source": [
    "view"
   ]
  },
  {
   "cell_type": "code",
   "execution_count": null,
   "metadata": {},
   "outputs": [],
   "source": [
    "from traitlets import HasTraits"
   ]
  },
  {
   "cell_type": "code",
   "execution_count": null,
   "metadata": {},
   "outputs": [],
   "source": [
    "isinstance(view, HasTraits)"
   ]
  },
  {
   "cell_type": "code",
   "execution_count": 2,
   "metadata": {},
   "outputs": [
    {
     "name": "stdout",
     "output_type": "stream",
     "text": [
      "XSELE mysele 0\n",
      "1707 atoms selected\n",
      "XSELE mysele 1707\n",
      "1306 atoms selected\n",
      "XSELE mysele 401\n",
      "0 atoms selected\n"
     ]
    },
    {
     "data": {
      "text/html": [
       "<div>\n",
       "<style scoped>\n",
       "    .dataframe tbody tr th:only-of-type {\n",
       "        vertical-align: middle;\n",
       "    }\n",
       "\n",
       "    .dataframe tbody tr th {\n",
       "        vertical-align: top;\n",
       "    }\n",
       "\n",
       "    .dataframe thead th {\n",
       "        text-align: right;\n",
       "    }\n",
       "</style>\n",
       "<table border=\"1\" class=\"dataframe\">\n",
       "  <thead>\n",
       "    <tr style=\"text-align: right;\">\n",
       "      <th></th>\n",
       "      <th>obj</th>\n",
       "      <th>model</th>\n",
       "      <th>hetero</th>\n",
       "      <th>name</th>\n",
       "      <th>altloc</th>\n",
       "      <th>resname</th>\n",
       "      <th>chain</th>\n",
       "      <th>index</th>\n",
       "      <th>icode</th>\n",
       "      <th>resid</th>\n",
       "      <th>x</th>\n",
       "      <th>y</th>\n",
       "      <th>z</th>\n",
       "      <th>occupancy</th>\n",
       "      <th>bfactor</th>\n",
       "      <th>segid</th>\n",
       "      <th>element</th>\n",
       "    </tr>\n",
       "  </thead>\n",
       "  <tbody>\n",
       "  </tbody>\n",
       "</table>\n",
       "</div>"
      ],
      "text/plain": [
       "Empty DataFrame\n",
       "Columns: [obj, model, hetero, name, altloc, resname, chain, index, icode, resid, x, y, z, occupancy, bfactor, segid, element]\n",
       "Index: []"
      ]
     },
     "execution_count": 2,
     "metadata": {},
     "output_type": "execute_result"
    }
   ],
   "source": [
    "s.select(\"obj == '1AVX' and chain == 'A'\", \"mysele\")\n",
    "s.select(\"obj == '1AVX' and chain == 'A' and resid < 200\")\n",
    "s.select(\"mysele and resid < 200\")\n",
    "s.get_selection()"
   ]
  },
  {
   "cell_type": "code",
   "execution_count": null,
   "metadata": {},
   "outputs": [],
   "source": []
  }
 ],
 "metadata": {
  "kernelspec": {
   "display_name": "Python 3",
   "language": "python",
   "name": "python3"
  },
  "language_info": {
   "codemirror_mode": {
    "name": "ipython",
    "version": 3
   },
   "file_extension": ".py",
   "mimetype": "text/x-python",
   "name": "python",
   "nbconvert_exporter": "python",
   "pygments_lexer": "ipython3",
   "version": "3.6.6"
  }
 },
 "nbformat": 4,
 "nbformat_minor": 2
}
