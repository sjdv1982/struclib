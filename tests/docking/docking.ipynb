{
 "cells": [
  {
   "cell_type": "markdown",
   "metadata": {},
   "source": [
    "### Configure a Seamless outgoing port at localhost:8222"
   ]
  },
  {
   "cell_type": "code",
   "execution_count": 1,
   "metadata": {},
   "outputs": [],
   "source": [
    "website=\"http://localhost:5813\"\n",
    "websocketserver=\"ws://localhost:5138\"\n",
    "\n",
    "import os\n",
    "os.environ[\"SEAMLESS_COMMUNION_ID\"] = \"docking-clustering\"\n",
    "os.environ[\"SEAMLESS_COMMUNION_OUTGOING\"] = \"8222\"\n",
    "import json\n",
    "import seamless\n",
    "seamless.communionserver.configure_master(\n",
    "    transformer_job=True,\n",
    "    transformer_result=True,\n",
    "    transformer_result_level2=True\n",
    ")"
   ]
  },
  {
   "cell_type": "markdown",
   "metadata": {},
   "source": [
    "### Use [Redis](https://redis.io/) as a cache, and as a store for new results"
   ]
  },
  {
   "cell_type": "code",
   "execution_count": 2,
   "metadata": {},
   "outputs": [],
   "source": [
    "redis_sink = seamless.RedisSink()\n",
    "redis_cache = seamless.RedisCache()"
   ]
  },
  {
   "cell_type": "code",
   "execution_count": 3,
   "metadata": {},
   "outputs": [
    {
     "name": "stdout",
     "output_type": "stream",
     "text": [
      "Set up a communion outgoing port 8222\n"
     ]
    }
   ],
   "source": [
    "from seamless.highlevel import Context, Cell, Transformer\n",
    "ctx = Context()"
   ]
  },
  {
   "cell_type": "markdown",
   "metadata": {},
   "source": [
    "### Load Seamless graph, previously auto-generated from the [Snakemake file](../../../edit/tests/docking/Snakefile)"
   ]
  },
  {
   "cell_type": "code",
   "execution_count": 4,
   "metadata": {},
   "outputs": [],
   "source": [
    "graph = json.load(open(\"snakegraph.seamless\"))\n",
    "ctx = seamless.highlevel.load_graph(graph)"
   ]
  },
  {
   "cell_type": "markdown",
   "metadata": {},
   "source": [
    "### Load docking input files and bind them to the graph's virtual file system"
   ]
  },
  {
   "cell_type": "code",
   "execution_count": 5,
   "metadata": {},
   "outputs": [
    {
     "name": "stdout",
     "output_type": "stream",
     "text": [
      "docking-result-pairwise-lrmsd.txt\n",
      "receptor.pdb\n",
      "ligand.pdb\n",
      "receptor-bound.pdb\n",
      "ligand-bound.pdb\n",
      "docking-result.dat\n"
     ]
    }
   ],
   "source": [
    "# HACK: Keep the large pairwise lrmsd file out of the virtual file system\n",
    "ctx.pw_lrmsd = Cell()\n",
    "file = \"docking-result-pairwise-lrmsd.txt\"\n",
    "print(file)\n",
    "data = open(file).read()\n",
    "ctx.pw_lrmsd = data\n",
    "ctx.jobs.cluster_struc.inputfile_pairwise_lrmsd = ctx.pw_lrmsd\n",
    "\n",
    "inputs = (\n",
    "    \"receptor.pdb\",\n",
    "    \"ligand.pdb\",\n",
    "    \"receptor-bound.pdb\",\n",
    "    \"ligand-bound.pdb\",\n",
    "    \"docking-result.dat\",\n",
    "    #\"docking-result-pairwise-lrmsd.txt\"\n",
    ")\n",
    "for file in inputs:\n",
    "    print(file)\n",
    "    data = open(file).read()\n",
    "    ctx.filesystem[file] = data\n"
   ]
  },
  {
   "cell_type": "markdown",
   "metadata": {},
   "source": [
    "### Set up initial values. This will start the computation"
   ]
  },
  {
   "cell_type": "code",
   "execution_count": 6,
   "metadata": {},
   "outputs": [],
   "source": [
    "ctx.clustering_cutoff = 10\n",
    "ctx.clustering_cutoff.celltype = \"text\"\n",
    "ctx.selected_cluster = 6\n",
    "ctx.selected_cluster.celltype = \"text\"\n",
    "ctx.filesystem[\"params/cluster-cutoff\"] = ctx.clustering_cutoff\n",
    "ctx.filesystem[\"params/selected-cluster\"] = ctx.selected_cluster"
   ]
  },
  {
   "cell_type": "markdown",
   "metadata": {},
   "source": [
    "### Set up a read-out of the results"
   ]
  },
  {
   "cell_type": "code",
   "execution_count": 7,
   "metadata": {},
   "outputs": [],
   "source": [
    "ctx.pdb_backbone = ctx.filesystem[\"outputs/selected-cluster-aligned-backbone.pdb\"]\n",
    "ctx.pdb_sidechain = ctx.filesystem[\"outputs/selected-cluster-aligned-sidechains.pdb\"]\n",
    "ctx.lrmsd = ctx.filesystem[\"outputs/selected-cluster.lrmsd\"]\n",
    "ctx.irmsd = ctx.filesystem[\"outputs/selected-cluster.irmsd\"]\n",
    "ctx.fnat = ctx.filesystem[\"outputs/selected-cluster.fnat\"]\n",
    "ctx.capri_stars = ctx.filesystem[\"outputs/selected-cluster.stars\"]\n",
    "ctx.docking_score = ctx.filesystem[\"outputs/selected-cluster.ene\"]\n",
    "ctx.rank = ctx.filesystem[\"outputs/selected-cluster.rank\"]\n",
    "ctx.cluster_size = ctx.filesystem[\"outputs/selected-cluster.size\"]\n"
   ]
  },
  {
   "cell_type": "markdown",
   "metadata": {},
   "source": [
    "### Wait until execution has finished"
   ]
  },
  {
   "cell_type": "code",
   "execution_count": 8,
   "metadata": {},
   "outputs": [
    {
     "data": {
      "text/plain": [
       "set()"
      ]
     },
     "execution_count": 8,
     "metadata": {},
     "output_type": "execute_result"
    }
   ],
   "source": [
    "ctx.equilibrate()"
   ]
  },
  {
   "cell_type": "markdown",
   "metadata": {},
   "source": [
    "### Share the inputs and the results over the web"
   ]
  },
  {
   "cell_type": "code",
   "execution_count": 9,
   "metadata": {},
   "outputs": [
    {
     "name": "stdout",
     "output_type": "stream",
     "text": [
      "Opened the seamless share update server at port 5138\n",
      "Opened the seamless REST server at port 5813\n"
     ]
    },
    {
     "data": {
      "text/plain": [
       "set()"
      ]
     },
     "execution_count": 9,
     "metadata": {},
     "output_type": "execute_result"
    }
   ],
   "source": [
    "cells = (\n",
    " ctx.clustering_cutoff,\n",
    " ctx.selected_cluster,      \n",
    " ctx.pdb_backbone,\n",
    " ctx.pdb_sidechain,\n",
    " ctx.lrmsd,\n",
    " ctx.irmsd,\n",
    " ctx.fnat,\n",
    " ctx.capri_stars,\n",
    " ctx.docking_score,\n",
    " ctx.rank,\n",
    " ctx.cluster_size\n",
    ")\n",
    "for cell in cells:\n",
    "    cell.celltype = \"text\"\n",
    "    cell.share()\n",
    "ctx.equilibrate()"
   ]
  },
  {
   "cell_type": "code",
   "execution_count": 10,
   "metadata": {},
   "outputs": [
    {
     "data": {
      "text/markdown": [
       "\n",
       "### The inputs and results are now interactively shared over the web. For example: \n",
       "- [Clustering cutoff](http://localhost:5813/ctx/clustering_cutoff)\n",
       "- [backbone PDB](http://localhost:5813/ctx/pdb_backbone)\n",
       "- [full PDB](http://localhost:5813/ctx/pdb_sidechain) (generated by Oscar-star)\n",
       "- [Docking score](http://localhost:5813/ctx/docking_score)\n",
       "- [CAPRI stars](http://localhost:5813/ctx/capri_stars)\n"
      ],
      "text/plain": [
       "<IPython.core.display.Markdown object>"
      ]
     },
     "execution_count": 10,
     "metadata": {},
     "output_type": "execute_result"
    }
   ],
   "source": [
    "from IPython.display import Markdown\n",
    "Markdown(\"\"\"\n",
    "### The inputs and results are now interactively shared over the web. For example: \n",
    "- [Clustering cutoff]({web}/ctx/clustering_cutoff)\n",
    "- [backbone PDB]({web}/ctx/pdb_backbone)\n",
    "- [full PDB]({web}/ctx/pdb_sidechain) (generated by Oscar-star)\n",
    "- [Docking score]({web}/ctx/docking_score)\n",
    "- [CAPRI stars]({web}/ctx/capri_stars)\n",
    "\"\"\".format(web=website))"
   ]
  },
  {
   "cell_type": "markdown",
   "metadata": {},
   "source": [
    "### Set up Jupyter widgets to control the input and display the results"
   ]
  },
  {
   "cell_type": "code",
   "execution_count": 11,
   "metadata": {},
   "outputs": [],
   "source": [
    "# Some helper functions\n",
    "import ipywidgets as widgets\n",
    "import traitlets\n",
    "from collections import OrderedDict\n",
    "from functools import partial\n",
    "\n",
    "\n",
    "def connect(cell, widget):\n",
    "    t = cell.traitlet()\n",
    "    if isinstance(widget, widgets.Label):\n",
    "        traitlets.dlink((t, \"value\"), (widget, \"value\"), lambda v: \"\" if v is None else str(v) )\n",
    "    else:\n",
    "        widget.value = t.value\n",
    "        traitlets.link((t, \"value\"), (widget, \"value\"))\n"
   ]
  },
  {
   "cell_type": "code",
   "execution_count": 12,
   "metadata": {},
   "outputs": [],
   "source": [
    "\n",
    "\n",
    "w = {\n",
    "    \"cutoff\": widgets.BoundedFloatText(min = 0.5, max=50, step=0.5, description = \"Clustering cutoff\"),\n",
    "    \"sel\": widgets.BoundedIntText(min = 1, max=100, step=0.5, description = \"Selected cluster\"),\n",
    "    \"irmsd\": widgets.Label(description = \"Interface RMSD\"),\n",
    "    \"lrmsd\": widgets.Label(description = \"Ligand RMSD\"),\n",
    "    \"fnat\": widgets.Label(description = \"Fraction of native contacts\"),\n",
    "    \"stars\": widgets.Label(description = \"CAPRI stars\"),\n",
    "    \"score\": widgets.Label(description = \"Docking score\"),\n",
    "    \"rank\": widgets.Label(description = \"Docking rank\"),\n",
    "    \"cluster_size\": widgets.Label(description = \"Cluster size\"),\n",
    "    \n",
    "}\n",
    "\n",
    "connect(ctx.selected_cluster, w[\"sel\"])\n",
    "connect(ctx.clustering_cutoff, w[\"cutoff\"])\n",
    "connect(ctx.irmsd, w[\"irmsd\"])\n",
    "connect(ctx.lrmsd, w[\"lrmsd\"])\n",
    "connect(ctx.fnat, w[\"fnat\"])\n",
    "connect(ctx.capri_stars, w[\"stars\"])\n",
    "connect(ctx.docking_score, w[\"score\"])\n",
    "connect(ctx.rank, w[\"rank\"])\n",
    "connect(ctx.cluster_size, w[\"cluster_size\"])\n",
    "\n",
    "a = OrderedDict()\n",
    "a[\"Input\"] =  w[\"sel\"], w[\"cutoff\"]\n",
    "a[\"CAPRI evaluation\"] = w[\"irmsd\"], w[\"lrmsd\"], w[\"fnat\"], w[\"stars\"]\n",
    "a[\"Docking statistics\"] = w[\"rank\"], w[\"score\"], w[\"cluster_size\"]\n",
    "\n",
    "tab = widgets.Tab()\n",
    "for k,v in a.items():\n",
    "    accordion = widgets.Accordion()\n",
    "    for ww in v:\n",
    "        accordion.children = accordion.children + (ww,)        \n",
    "        accordion.set_title(len(accordion.children)-1, ww.description)\n",
    "        ww.description = \"\"\n",
    "    tab.children = tab.children + (accordion,)\n",
    "    tab.set_title(len(tab.children)-1, k)"
   ]
  },
  {
   "cell_type": "markdown",
   "metadata": {},
   "source": [
    "### Create viewer / representation / selection widgets for the PDBs"
   ]
  },
  {
   "cell_type": "code",
   "execution_count": 13,
   "metadata": {},
   "outputs": [
    {
     "name": "stdout",
     "output_type": "stream",
     "text": [
      "Warning: File path '../load_pdbs.py' has a different value, overwriting cell\n"
     ]
    },
    {
     "data": {
      "text/plain": [
       "set()"
      ]
     },
     "execution_count": 13,
     "metadata": {},
     "output_type": "execute_result"
    }
   ],
   "source": [
    "ctx.pdbs0 = {}\n",
    "ctx.pdbs0.bound = open(\"receptor-bound.pdb\").read() + open(\"ligand-bound.pdb\").read()\n",
    "ctx.pdbs0.pdb_backbone = ctx.pdb_backbone\n",
    "ctx.pdbs0.pdb_sidechain = ctx.pdb_sidechain\n",
    "ctx.pdbs = ctx.pdbs0\n",
    "ctx.pdbs.celltype = \"plain\"\n",
    "ctx.pdbs.share()\n",
    "\n",
    "ctx.code = Context()\n",
    "ctx.structurestate_class = Transformer() #Until Seamless supports modules at the high level\n",
    "#ctx.structurestate_class.code.mount(\"../struclib/StructureState.py\") # bug in Seamless\n",
    "ctx.code.structurestate_class >> ctx.structurestate_class.code # KLUDGE\n",
    "ctx.code.structurestate_class.mount(\"../struclib/StructureState.py\", authority=\"file\")\n",
    "ctx.structurestate_schema = ctx.structurestate_class\n",
    "\n",
    "ctx.load_pdbs = lambda structurestate_schema, pdbs: None\n",
    "ctx.load_pdbs.structurestate_schema = ctx.structurestate_schema\n",
    "ctx.load_pdbs.pdbs = ctx.pdbs\n",
    "ctx.code.load_pdbs >> ctx.load_pdbs.code\n",
    "ctx.code.load_pdbs.mount(\"../load_pdbs.py\", authority=\"file\")\n",
    "ctx.struc_data = ctx.load_pdbs\n",
    "ctx.equilibrate()"
   ]
  },
  {
   "cell_type": "code",
   "execution_count": 14,
   "metadata": {},
   "outputs": [
    {
     "name": "stdout",
     "output_type": "stream",
     "text": [
      "Warning: File path 'visualization.txt' has a different value, overwriting cell\n"
     ]
    },
    {
     "data": {
      "text/plain": [
       "set()"
      ]
     },
     "execution_count": 14,
     "metadata": {},
     "output_type": "execute_result"
    }
   ],
   "source": [
    "ctx.visualization = \"\"\n",
    "ctx.visualization.celltype = \"text\"\n",
    "ctx.visualization.mount(\"visualization.txt\", authority=\"file\")\n",
    "ctx.equilibrate()"
   ]
  },
  {
   "cell_type": "code",
   "execution_count": 15,
   "metadata": {},
   "outputs": [
    {
     "data": {
      "text/plain": [
       "set()"
      ]
     },
     "execution_count": 15,
     "metadata": {},
     "output_type": "execute_result"
    }
   ],
   "source": [
    "ctx.visualize = Transformer()\n",
    "ctx.visualize.with_result = True\n",
    "ctx.visualize.structurestate_schema = ctx.structurestate_schema\n",
    "ctx.visualize.struc_data = ctx.struc_data\n",
    "ctx.visualize.visualization = ctx.visualization\n",
    "ctx.code.visualize >> ctx.visualize.code\n",
    "ctx.code.visualize.mount(\"../visualize.py\", authority=\"file\")\n",
    "ctx.visualize_result = ctx.visualize\n",
    "ctx.equilibrate()"
   ]
  },
  {
   "cell_type": "code",
   "execution_count": 16,
   "metadata": {},
   "outputs": [
    {
     "data": {
      "text/plain": [
       "set()"
      ]
     },
     "execution_count": 16,
     "metadata": {},
     "output_type": "execute_result"
    }
   ],
   "source": [
    "ctx.ngl_representations = Cell()\n",
    "ctx.ngl_representations = ctx.visualize_result.ngl_representations\n",
    "ctx.ngl_representations.celltype = \"plain\"\n",
    "\n",
    "ctx.selected = Cell()\n",
    "ctx.selected = ctx.visualize_result.table\n",
    "ctx.selected.celltype = \"text\"\n",
    "ctx.selected.mimetype = \"html\"\n",
    "ctx.equilibrate()"
   ]
  },
  {
   "cell_type": "code",
   "execution_count": 17,
   "metadata": {},
   "outputs": [
    {
     "data": {
      "text/plain": [
       "set()"
      ]
     },
     "execution_count": 17,
     "metadata": {},
     "output_type": "execute_result"
    }
   ],
   "source": [
    "ctx.visualization.share()\n",
    "ctx.pdbs.share()\n",
    "ctx.ngl_representations.share()\n",
    "ctx.selected.share()\n",
    "ctx.equilibrate()"
   ]
  },
  {
   "cell_type": "code",
   "execution_count": 27,
   "metadata": {},
   "outputs": [],
   "source": [
    "import nglview as nv\n",
    "import functools\n",
    "view = nv.NGLWidget()\n",
    "view.components = {}\n",
    "\n",
    "  \n",
    "def ngl_set_representations(representations):\n",
    "    if representations is None:\n",
    "        return\n",
    "    for code, representation in representations.items():\n",
    "        if code not in view.components:\n",
    "            continue\n",
    "        comp = view.components[code]\n",
    "        comp.set_representations(representation)\n",
    "\n",
    "        \n",
    "def ngl_load_pdbs(pdbs): \n",
    "    import seamless\n",
    "    checksum = seamless.get_dict_hash(pdbs)\n",
    "    if getattr(ngl_load_pdbs, \"_checksum\", None) == checksum:\n",
    "        return\n",
    "    ngl_load_pdbs._checksum = checksum\n",
    "    for code, comp in view.components.items():\n",
    "        try:\n",
    "            view.remove_component(comp)\n",
    "        except IndexError: #some bug in NGLWidget?\n",
    "            pass\n",
    "    view.components.clear()\n",
    "    view.clear()\n",
    "    if pdbs is None:\n",
    "        return\n",
    "    for code, pdb in pdbs.items():\n",
    "        struc = nv.TextStructure(pdb,ext=\"pdb\")\n",
    "        view.components[code] = view.add_component(struc)\n",
    "    ngl_set_representations(ctx.ngl_representations.value)\n",
    "\n",
    "t=ctx.pdbs.traitlet()\n",
    "observer1 = t.observe(lambda change: ngl_load_pdbs(change[\"new\"]), \"value\")\n",
    "t=ctx.ngl_representations.traitlet()\n",
    "observer2 = t.observe(lambda change: ngl_set_representations(change[\"new\"]), \"value\")"
   ]
  },
  {
   "cell_type": "code",
   "execution_count": 19,
   "metadata": {},
   "outputs": [],
   "source": [
    "import ipywidgets, traitlets\n",
    "selected = ipywidgets.HTML()\n",
    "t = ctx.selected.traitlet()\n",
    "_ = traitlets.directional_link((t, \"value\"), (selected, \"value\"), transform=lambda v: v if v is not None else \"\")"
   ]
  },
  {
   "cell_type": "code",
   "execution_count": 20,
   "metadata": {},
   "outputs": [],
   "source": [
    "t = ctx.visualization.traitlet()\n",
    "visualization = ipywidgets.Textarea()\n",
    "_ = traitlets.directional_link(\n",
    "    (t, \"value\"), (visualization, \"value\"), \n",
    "    transform=lambda v: v if v is not None else \"\"\n",
    ")\n",
    "visualization.layout.min_width = \"800px\"\n",
    "visualization.rows = 10\n",
    "vis_button = ipywidgets.Button(description=\"Update visualization\")\n",
    "def on_click(_):\n",
    "    t.value = visualization.value\n",
    "vis_button.on_click(on_click)"
   ]
  },
  {
   "cell_type": "markdown",
   "metadata": {},
   "source": [
    "### Display the widgets"
   ]
  },
  {
   "cell_type": "code",
   "execution_count": 21,
   "metadata": {
    "scrolled": false
   },
   "outputs": [
    {
     "data": {
      "application/vnd.jupyter.widget-view+json": {
       "model_id": "a63eb5b3246d44bea6f3045433bced67",
       "version_major": 2,
       "version_minor": 0
      },
      "text/html": [
       "<p>Failed to display Jupyter Widget of type <code>Tab</code>.</p>\n",
       "<p>\n",
       "  If you're reading this message in the Jupyter Notebook or JupyterLab Notebook, it may mean\n",
       "  that the widgets JavaScript is still loading. If this message persists, it\n",
       "  likely means that the widgets JavaScript library is either not installed or\n",
       "  not enabled. See the <a href=\"https://ipywidgets.readthedocs.io/en/stable/user_install.html\">Jupyter\n",
       "  Widgets Documentation</a> for setup instructions.\n",
       "</p>\n",
       "<p>\n",
       "  If you're reading this message in another frontend (for example, a static\n",
       "  rendering on GitHub or <a href=\"https://nbviewer.jupyter.org/\">NBViewer</a>),\n",
       "  it may mean that your frontend doesn't currently support widgets.\n",
       "</p>\n"
      ],
      "text/plain": [
       "Tab(children=(Accordion(children=(BoundedIntText(value=6, min=1, step=0), BoundedFloatText(value=10.0, max=50.0, min=0.5, step=0.5)), _titles={'0': 'Selected cluster', '1': 'Clustering cutoff'}), Accordion(children=(Label(value='0.994'), Label(value='1.8'), Label(value='0.72'), Label(value='3')), _titles={'0': 'Interface RMSD', '1': 'Ligand RMSD', '2': 'Fraction of native contacts', '3': 'CAPRI stars'}), Accordion(children=(Label(value=''), Label(value=''), Label(value='')), _titles={'0': 'Docking rank', '1': 'Docking score', '2': 'Cluster size'})), _titles={'0': 'Input', '1': 'CAPRI evaluation', '2': 'Docking statistics'})"
      ]
     },
     "metadata": {},
     "output_type": "display_data"
    },
    {
     "name": "stdout",
     "output_type": "stream",
     "text": [
      "3220 atoms selected\n",
      "0 atoms selected\n",
      "384 atoms selected\n",
      "889 atoms selected\n",
      "0 atoms selected\n",
      "356 atoms selected\n",
      "846 atoms selected\n",
      "72 atoms selected\n",
      "3221 atoms selected\n",
      "0 atoms selected\n",
      "384 atoms selected\n",
      "889 atoms selected\n",
      "0 atoms selected\n",
      "356 atoms selected\n",
      "847 atoms selected\n",
      "72 atoms selected\n"
     ]
    }
   ],
   "source": [
    "from IPython.display import display\n",
    "display(tab)"
   ]
  },
  {
   "cell_type": "code",
   "execution_count": 28,
   "metadata": {},
   "outputs": [
    {
     "data": {
      "application/vnd.jupyter.widget-view+json": {
       "model_id": "74a0eeb5198f4102b8ce7c749a6a8316",
       "version_major": 2,
       "version_minor": 0
      },
      "text/html": [
       "<p>Failed to display Jupyter Widget of type <code>NGLWidget</code>.</p>\n",
       "<p>\n",
       "  If you're reading this message in the Jupyter Notebook or JupyterLab Notebook, it may mean\n",
       "  that the widgets JavaScript is still loading. If this message persists, it\n",
       "  likely means that the widgets JavaScript library is either not installed or\n",
       "  not enabled. See the <a href=\"https://ipywidgets.readthedocs.io/en/stable/user_install.html\">Jupyter\n",
       "  Widgets Documentation</a> for setup instructions.\n",
       "</p>\n",
       "<p>\n",
       "  If you're reading this message in another frontend (for example, a static\n",
       "  rendering on GitHub or <a href=\"https://nbviewer.jupyter.org/\">NBViewer</a>),\n",
       "  it may mean that your frontend doesn't currently support widgets.\n",
       "</p>\n"
      ],
      "text/plain": [
       "NGLWidget()"
      ]
     },
     "metadata": {},
     "output_type": "display_data"
    }
   ],
   "source": [
    "view"
   ]
  },
  {
   "cell_type": "code",
   "execution_count": 26,
   "metadata": {},
   "outputs": [
    {
     "data": {
      "application/vnd.jupyter.widget-view+json": {
       "model_id": "e2db7133d7444ce49f388a88acca5906",
       "version_major": 2,
       "version_minor": 0
      },
      "text/html": [
       "<p>Failed to display Jupyter Widget of type <code>Textarea</code>.</p>\n",
       "<p>\n",
       "  If you're reading this message in the Jupyter Notebook or JupyterLab Notebook, it may mean\n",
       "  that the widgets JavaScript is still loading. If this message persists, it\n",
       "  likely means that the widgets JavaScript library is either not installed or\n",
       "  not enabled. See the <a href=\"https://ipywidgets.readthedocs.io/en/stable/user_install.html\">Jupyter\n",
       "  Widgets Documentation</a> for setup instructions.\n",
       "</p>\n",
       "<p>\n",
       "  If you're reading this message in another frontend (for example, a static\n",
       "  rendering on GitHub or <a href=\"https://nbviewer.jupyter.org/\">NBViewer</a>),\n",
       "  it may mean that your frontend doesn't currently support widgets.\n",
       "</p>\n"
      ],
      "text/plain": [
       "Textarea(value='select all\\nshow_as cartoon\\nshow licorice\\nselect obj==\"bound\" and chain==\"A\"\\ncolor magenta\\nselect obj==\"pdb_backbone\" and chain==\"A\"\\ncolor yellow\\nselect obj==\"pdb_sidechain\" and chain==\"A\"\\ncolor yellow\\nselect obj==\"bound\" and chain==\"A\"\\ncolor blue\\nselect obj==\"pdb_backbone\" and chain==\"B\"\\ncolor green\\nselect obj==\"pdb_sidechain\" and chain==\"B\"\\ncolor green\\nselect resid > 20 and resid < 21\\nshow spacefill', layout=Layout(min_width='800px'), rows=10)"
      ]
     },
     "metadata": {},
     "output_type": "display_data"
    },
    {
     "data": {
      "application/vnd.jupyter.widget-view+json": {
       "model_id": "31a41a430ae5492185051be2d5d9e118",
       "version_major": 2,
       "version_minor": 0
      },
      "text/html": [
       "<p>Failed to display Jupyter Widget of type <code>Button</code>.</p>\n",
       "<p>\n",
       "  If you're reading this message in the Jupyter Notebook or JupyterLab Notebook, it may mean\n",
       "  that the widgets JavaScript is still loading. If this message persists, it\n",
       "  likely means that the widgets JavaScript library is either not installed or\n",
       "  not enabled. See the <a href=\"https://ipywidgets.readthedocs.io/en/stable/user_install.html\">Jupyter\n",
       "  Widgets Documentation</a> for setup instructions.\n",
       "</p>\n",
       "<p>\n",
       "  If you're reading this message in another frontend (for example, a static\n",
       "  rendering on GitHub or <a href=\"https://nbviewer.jupyter.org/\">NBViewer</a>),\n",
       "  it may mean that your frontend doesn't currently support widgets.\n",
       "</p>\n"
      ],
      "text/plain": [
       "Button(description='Update visualization', style=ButtonStyle())"
      ]
     },
     "metadata": {},
     "output_type": "display_data"
    },
    {
     "name": "stdout",
     "output_type": "stream",
     "text": [
      "3221 atoms selected\n",
      "0 atoms selected\n",
      "384 atoms selected\n",
      "889 atoms selected\n",
      "0 atoms selected\n",
      "356 atoms selected\n",
      "847 atoms selected\n",
      "72 atoms selected\n",
      "3220 atoms selected\n",
      "0 atoms selected\n",
      "384 atoms selected\n",
      "888 atoms selected\n",
      "0 atoms selected\n",
      "356 atoms selected\n",
      "847 atoms selected\n",
      "34 atoms selected\n"
     ]
    }
   ],
   "source": [
    "display(visualization)\n",
    "vis_button"
   ]
  },
  {
   "cell_type": "code",
   "execution_count": 24,
   "metadata": {},
   "outputs": [
    {
     "data": {
      "application/vnd.jupyter.widget-view+json": {
       "model_id": "d7e5f65605f547cba9c398ad818ea3b7",
       "version_major": 2,
       "version_minor": 0
      },
      "text/html": [
       "<p>Failed to display Jupyter Widget of type <code>HTML</code>.</p>\n",
       "<p>\n",
       "  If you're reading this message in the Jupyter Notebook or JupyterLab Notebook, it may mean\n",
       "  that the widgets JavaScript is still loading. If this message persists, it\n",
       "  likely means that the widgets JavaScript library is either not installed or\n",
       "  not enabled. See the <a href=\"https://ipywidgets.readthedocs.io/en/stable/user_install.html\">Jupyter\n",
       "  Widgets Documentation</a> for setup instructions.\n",
       "</p>\n",
       "<p>\n",
       "  If you're reading this message in another frontend (for example, a static\n",
       "  rendering on GitHub or <a href=\"https://nbviewer.jupyter.org/\">NBViewer</a>),\n",
       "  it may mean that your frontend doesn't currently support widgets.\n",
       "</p>\n"
      ],
      "text/plain": [
       "HTML(value='')"
      ]
     },
     "metadata": {},
     "output_type": "display_data"
    }
   ],
   "source": [
    "selected"
   ]
  },
  {
   "cell_type": "code",
   "execution_count": 25,
   "metadata": {},
   "outputs": [
    {
     "data": {
      "text/markdown": [
       "\n",
       "# Observable Notebook\n",
       "\n",
       "### The PDB can also be visualized (and its visualization edited) using Observable Notebook\n",
       "https://observablehq.com/@sjdv1982/struclib-viewer-gui?RESTSERVER=%http://localhost:5813&WEBSOCKETSERVER=ws://localhost:5138\n"
      ],
      "text/plain": [
       "<IPython.core.display.Markdown object>"
      ]
     },
     "execution_count": 25,
     "metadata": {},
     "output_type": "execute_result"
    }
   ],
   "source": [
    "Markdown(\"\"\"\n",
    "# Observable Notebook\n",
    "\n",
    "### The PDB can also be visualized (and its visualization edited) using Observable Notebook\n",
    "https://observablehq.com/@sjdv1982/struclib-viewer-gui?RESTSERVER=%{website}&WEBSOCKETSERVER={websocketserver}\n",
    "\"\"\".format(website=website,websocketserver=websocketserver))"
   ]
  },
  {
   "cell_type": "code",
   "execution_count": null,
   "metadata": {},
   "outputs": [],
   "source": []
  }
 ],
 "metadata": {
  "kernelspec": {
   "display_name": "Python 3",
   "language": "python",
   "name": "python3"
  },
  "language_info": {
   "codemirror_mode": {
    "name": "ipython",
    "version": 3
   },
   "file_extension": ".py",
   "mimetype": "text/x-python",
   "name": "python",
   "nbconvert_exporter": "python",
   "pygments_lexer": "ipython3",
   "version": "3.6.7"
  }
 },
 "nbformat": 4,
 "nbformat_minor": 2
}
