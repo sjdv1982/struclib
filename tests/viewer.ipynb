{
 "cells": [
  {
   "cell_type": "code",
   "execution_count": 1,
   "metadata": {},
   "outputs": [
    {
     "name": "stdout",
     "output_type": "stream",
     "text": [
      "TODO: Runtime wrapper around StructuredCell that protects against .foo = bar where .handle.foo = bar is intended\n"
     ]
    },
    {
     "name": "stderr",
     "output_type": "stream",
     "text": [
      "Qt could not be started. Qt widgets will not work\n"
     ]
    },
    {
     "name": "stdout",
     "output_type": "stream",
     "text": [
      "Equilibrate: waiting for: ['.translated.compiler.tf', '.translated.gen_header.tf']\n"
     ]
    }
   ],
   "source": [
    "from seamless.highlevel import Context, Transformer"
   ]
  },
  {
   "cell_type": "code",
   "execution_count": null,
   "metadata": {},
   "outputs": [],
   "source": [
    "ctx = Context()\n",
    "ctx.code = Context()\n",
    "ctx.structurestate_class = Transformer() #Until Seamless supports modules at the high level\n",
    "#ctx.structurestate_class.code.mount(\"../struclib/StructureState.py\") # bug in Seamless\n",
    "ctx.code.structurestate_class >> ctx.structurestate_class.code # KLUDGE\n",
    "ctx.code.structurestate_class.mount(\"../struclib/StructureState.py\", authority=\"file\")\n",
    "ctx.structurestate_schema = ctx.structurestate_class\n",
    "\n",
    "ctx.pdbcodes = [\"1ACB\", \"1AVX\"]\n",
    "ctx.render = lambda structurestate_schema, pdbcodes: None\n",
    "ctx.render.structurestate_schema = ctx.structurestate_schema\n",
    "ctx.render.pdbcodes = ctx.pdbcodes\n",
    "ctx.code.render >> ctx.render.code\n",
    "ctx.code.render.mount(\"render.py\", authority=\"file\")\n",
    "ctx.struc = ctx.render\n",
    "ctx.equilibrate()"
   ]
  },
  {
   "cell_type": "code",
   "execution_count": null,
   "metadata": {
    "scrolled": false
   },
   "outputs": [],
   "source": [
    "\"\"\" # non-interactive mode... have to restart Jupyter kernel for every change in StructureState.py\n",
    "from struclib.StructureState import StructureState\n",
    "struc = StructureState()\n",
    "\"\"\"\n",
    "from seamless.silk import Silk\n",
    "import copy\n",
    "schema = copy.deepcopy(ctx.structurestate_schema.value.data)\n",
    "data = copy.deepcopy(ctx.struc.data.value)\n",
    "struc = Silk(schema=schema, data= data) # ugh, need to improve the syntax..."
   ]
  },
  {
   "cell_type": "code",
   "execution_count": null,
   "metadata": {},
   "outputs": [],
   "source": [
    "struc.hide()\n",
    "struc.select(\"obj == '1AVX'\")\n",
    "struc.show_as(\"spacefill\")\n",
    "struc.select(\"obj == '1ACB'\")\n",
    "struc.show_as(\"sticks\")"
   ]
  },
  {
   "cell_type": "code",
   "execution_count": null,
   "metadata": {},
   "outputs": [],
   "source": [
    "import nglview as nv\n",
    "view = nv.NGLWidget()\n",
    "view.components = {}\n",
    "def ngl_load_pdbcodes(pdbcodes):    \n",
    "    if pdbcodes == list(view.components.keys()):\n",
    "        return\n",
    "    for code, comp in view.components.items():\n",
    "        try:\n",
    "            view.remove_component(comp)\n",
    "        except IndexError: #some bug in NGLWidget?\n",
    "            pass\n",
    "    view.components.clear()\n",
    "    view.clear()\n",
    "    for code in pdbcodes:\n",
    "        view.components[code] = view.add_component(\"rcsb://\"+ code)\n",
    "    assert pdbcodes == list(view.components.keys())"
   ]
  },
  {
   "cell_type": "code",
   "execution_count": null,
   "metadata": {},
   "outputs": [],
   "source": [
    "t=ctx.pdbcodes.traitlet(True)\n",
    "t.unobserve_all()\n",
    "observer = t.observe(lambda change: ngl_load_pdbcodes(change[\"new\"]), \"value\")\n",
    "if t.value is not None:\n",
    "    ngl_load_pdbcodes(t.value)"
   ]
  },
  {
   "cell_type": "code",
   "execution_count": null,
   "metadata": {},
   "outputs": [],
   "source": [
    "view"
   ]
  },
  {
   "cell_type": "code",
   "execution_count": null,
   "metadata": {},
   "outputs": [],
   "source": [
    "ctx.pdbcodes = [\"1DFJ\"]"
   ]
  },
  {
   "cell_type": "code",
   "execution_count": null,
   "metadata": {},
   "outputs": [],
   "source": [
    "r = struc.ngl_representations()\n",
    "#view.representations = r\n",
    "r\n",
    "view.clear_representations()\n",
    "view.add_representation(\"cartoon\")\n",
    "#view.add_representation(\"spacefill\", \"@0,1,2,3,4,5\")\n",
    "comps[0].clear_representations()\n",
    "comps[1].clear_representations()\n",
    "comps[0].add_representation(\"cartoon\")\n",
    "comps[1].add_representation(\"cartoon\")\n",
    "comps[0].add_representation(\"spacefill\", \"@0\")\n",
    "comps[1].add_representation(\"spacefill\", \"@3038\")\n"
   ]
  },
  {
   "cell_type": "code",
   "execution_count": null,
   "metadata": {},
   "outputs": [],
   "source": []
  }
 ],
 "metadata": {
  "kernelspec": {
   "display_name": "Python 3",
   "language": "python",
   "name": "python3"
  },
  "language_info": {
   "codemirror_mode": {
    "name": "ipython",
    "version": 3
   },
   "file_extension": ".py",
   "mimetype": "text/x-python",
   "name": "python",
   "nbconvert_exporter": "python",
   "pygments_lexer": "ipython3",
   "version": "3.6.6"
  }
 },
 "nbformat": 4,
 "nbformat_minor": 2
}
